{
 "cells": [
  {
   "cell_type": "markdown",
   "metadata": {},
   "source": [
    "# Project: TMDB-Movies data Anallysis\n",
    "\n",
    "## Table of Contents\n",
    "<ul>\n",
    "<li><a href=\"#intro\">Introduction</a></li>\n",
    "<li><a href=\"#wrangling\">Data Wrangling</a></li>\n",
    "<li><a href=\"#eda\">Exploratory Data Analysis</a></li>\n",
    "<li><a href=\"#conclusions\">Conclusions</a></li>\n",
    "</ul>"
   ]
  },
  {
   "cell_type": "markdown",
   "metadata": {},
   "source": [
    "<a id='intro'></a>\n",
    "## Introduction\n",
    "in this anallysis I used TMDB-Movies data set\n",
    "\n",
    "the dataset contains information about 10,000 movies collected from The Movie Database (TMDb)\n",
    "\n",
    "Qustions/\n",
    "\n",
    "1-did the total Profits increased from the 1960 year until 2015 ?\n",
    "\n",
    "2-what is the most successfull genres?\n",
    "\n",
    "3-who is the most successfull director?\n",
    "\n",
    "4-why does the director has the most number of successful movie ?\n",
    "\n",
    "5- does having more revenue means the movie is more popular ?\n",
    "\n",
    "6-what should you consider when making a movie?"
   ]
  },
  {
   "cell_type": "code",
   "execution_count": 404,
   "metadata": {},
   "outputs": [],
   "source": [
    "#import\n",
    "import pandas as pd\n",
    "from matplotlib import pyplot as plt\n",
    "import numpy as np\n",
    "import seaborn as sbs\n",
    "%matplotlib inline"
   ]
  },
  {
   "cell_type": "markdown",
   "metadata": {},
   "source": [
    "<a id='wrangling'></a>\n",
    "## Data Wrangling\n",
    "\n",
    "### General Properties"
   ]
  },
  {
   "cell_type": "code",
   "execution_count": 405,
   "metadata": {},
   "outputs": [],
   "source": [
    "# Load the data set\n",
    "df = pd.read_csv('tmdb-movies.csv')"
   ]
  },
  {
   "cell_type": "code",
   "execution_count": 406,
   "metadata": {},
   "outputs": [
    {
     "data": {
      "text/html": [
       "<div>\n",
       "<style scoped>\n",
       "    .dataframe tbody tr th:only-of-type {\n",
       "        vertical-align: middle;\n",
       "    }\n",
       "\n",
       "    .dataframe tbody tr th {\n",
       "        vertical-align: top;\n",
       "    }\n",
       "\n",
       "    .dataframe thead th {\n",
       "        text-align: right;\n",
       "    }\n",
       "</style>\n",
       "<table border=\"1\" class=\"dataframe\">\n",
       "  <thead>\n",
       "    <tr style=\"text-align: right;\">\n",
       "      <th></th>\n",
       "      <th>id</th>\n",
       "      <th>imdb_id</th>\n",
       "      <th>popularity</th>\n",
       "      <th>budget</th>\n",
       "      <th>revenue</th>\n",
       "      <th>original_title</th>\n",
       "      <th>cast</th>\n",
       "      <th>homepage</th>\n",
       "      <th>director</th>\n",
       "      <th>tagline</th>\n",
       "      <th>...</th>\n",
       "      <th>overview</th>\n",
       "      <th>runtime</th>\n",
       "      <th>genres</th>\n",
       "      <th>production_companies</th>\n",
       "      <th>release_date</th>\n",
       "      <th>vote_count</th>\n",
       "      <th>vote_average</th>\n",
       "      <th>release_year</th>\n",
       "      <th>budget_adj</th>\n",
       "      <th>revenue_adj</th>\n",
       "    </tr>\n",
       "  </thead>\n",
       "  <tbody>\n",
       "    <tr>\n",
       "      <th>0</th>\n",
       "      <td>135397</td>\n",
       "      <td>tt0369610</td>\n",
       "      <td>32.985763</td>\n",
       "      <td>150000000</td>\n",
       "      <td>1513528810</td>\n",
       "      <td>Jurassic World</td>\n",
       "      <td>Chris Pratt|Bryce Dallas Howard|Irrfan Khan|Vi...</td>\n",
       "      <td>http://www.jurassicworld.com/</td>\n",
       "      <td>Colin Trevorrow</td>\n",
       "      <td>The park is open.</td>\n",
       "      <td>...</td>\n",
       "      <td>Twenty-two years after the events of Jurassic ...</td>\n",
       "      <td>124</td>\n",
       "      <td>Action|Adventure|Science Fiction|Thriller</td>\n",
       "      <td>Universal Studios|Amblin Entertainment|Legenda...</td>\n",
       "      <td>6/9/15</td>\n",
       "      <td>5562</td>\n",
       "      <td>6.5</td>\n",
       "      <td>2015</td>\n",
       "      <td>1.379999e+08</td>\n",
       "      <td>1.392446e+09</td>\n",
       "    </tr>\n",
       "    <tr>\n",
       "      <th>1</th>\n",
       "      <td>76341</td>\n",
       "      <td>tt1392190</td>\n",
       "      <td>28.419936</td>\n",
       "      <td>150000000</td>\n",
       "      <td>378436354</td>\n",
       "      <td>Mad Max: Fury Road</td>\n",
       "      <td>Tom Hardy|Charlize Theron|Hugh Keays-Byrne|Nic...</td>\n",
       "      <td>http://www.madmaxmovie.com/</td>\n",
       "      <td>George Miller</td>\n",
       "      <td>What a Lovely Day.</td>\n",
       "      <td>...</td>\n",
       "      <td>An apocalyptic story set in the furthest reach...</td>\n",
       "      <td>120</td>\n",
       "      <td>Action|Adventure|Science Fiction|Thriller</td>\n",
       "      <td>Village Roadshow Pictures|Kennedy Miller Produ...</td>\n",
       "      <td>5/13/15</td>\n",
       "      <td>6185</td>\n",
       "      <td>7.1</td>\n",
       "      <td>2015</td>\n",
       "      <td>1.379999e+08</td>\n",
       "      <td>3.481613e+08</td>\n",
       "    </tr>\n",
       "    <tr>\n",
       "      <th>2</th>\n",
       "      <td>262500</td>\n",
       "      <td>tt2908446</td>\n",
       "      <td>13.112507</td>\n",
       "      <td>110000000</td>\n",
       "      <td>295238201</td>\n",
       "      <td>Insurgent</td>\n",
       "      <td>Shailene Woodley|Theo James|Kate Winslet|Ansel...</td>\n",
       "      <td>http://www.thedivergentseries.movie/#insurgent</td>\n",
       "      <td>Robert Schwentke</td>\n",
       "      <td>One Choice Can Destroy You</td>\n",
       "      <td>...</td>\n",
       "      <td>Beatrice Prior must confront her inner demons ...</td>\n",
       "      <td>119</td>\n",
       "      <td>Adventure|Science Fiction|Thriller</td>\n",
       "      <td>Summit Entertainment|Mandeville Films|Red Wago...</td>\n",
       "      <td>3/18/15</td>\n",
       "      <td>2480</td>\n",
       "      <td>6.3</td>\n",
       "      <td>2015</td>\n",
       "      <td>1.012000e+08</td>\n",
       "      <td>2.716190e+08</td>\n",
       "    </tr>\n",
       "    <tr>\n",
       "      <th>3</th>\n",
       "      <td>140607</td>\n",
       "      <td>tt2488496</td>\n",
       "      <td>11.173104</td>\n",
       "      <td>200000000</td>\n",
       "      <td>2068178225</td>\n",
       "      <td>Star Wars: The Force Awakens</td>\n",
       "      <td>Harrison Ford|Mark Hamill|Carrie Fisher|Adam D...</td>\n",
       "      <td>http://www.starwars.com/films/star-wars-episod...</td>\n",
       "      <td>J.J. Abrams</td>\n",
       "      <td>Every generation has a story.</td>\n",
       "      <td>...</td>\n",
       "      <td>Thirty years after defeating the Galactic Empi...</td>\n",
       "      <td>136</td>\n",
       "      <td>Action|Adventure|Science Fiction|Fantasy</td>\n",
       "      <td>Lucasfilm|Truenorth Productions|Bad Robot</td>\n",
       "      <td>12/15/15</td>\n",
       "      <td>5292</td>\n",
       "      <td>7.5</td>\n",
       "      <td>2015</td>\n",
       "      <td>1.839999e+08</td>\n",
       "      <td>1.902723e+09</td>\n",
       "    </tr>\n",
       "    <tr>\n",
       "      <th>4</th>\n",
       "      <td>168259</td>\n",
       "      <td>tt2820852</td>\n",
       "      <td>9.335014</td>\n",
       "      <td>190000000</td>\n",
       "      <td>1506249360</td>\n",
       "      <td>Furious 7</td>\n",
       "      <td>Vin Diesel|Paul Walker|Jason Statham|Michelle ...</td>\n",
       "      <td>http://www.furious7.com/</td>\n",
       "      <td>James Wan</td>\n",
       "      <td>Vengeance Hits Home</td>\n",
       "      <td>...</td>\n",
       "      <td>Deckard Shaw seeks revenge against Dominic Tor...</td>\n",
       "      <td>137</td>\n",
       "      <td>Action|Crime|Thriller</td>\n",
       "      <td>Universal Pictures|Original Film|Media Rights ...</td>\n",
       "      <td>4/1/15</td>\n",
       "      <td>2947</td>\n",
       "      <td>7.3</td>\n",
       "      <td>2015</td>\n",
       "      <td>1.747999e+08</td>\n",
       "      <td>1.385749e+09</td>\n",
       "    </tr>\n",
       "  </tbody>\n",
       "</table>\n",
       "<p>5 rows × 21 columns</p>\n",
       "</div>"
      ],
      "text/plain": [
       "       id    imdb_id  popularity     budget     revenue  \\\n",
       "0  135397  tt0369610   32.985763  150000000  1513528810   \n",
       "1   76341  tt1392190   28.419936  150000000   378436354   \n",
       "2  262500  tt2908446   13.112507  110000000   295238201   \n",
       "3  140607  tt2488496   11.173104  200000000  2068178225   \n",
       "4  168259  tt2820852    9.335014  190000000  1506249360   \n",
       "\n",
       "                 original_title  \\\n",
       "0                Jurassic World   \n",
       "1            Mad Max: Fury Road   \n",
       "2                     Insurgent   \n",
       "3  Star Wars: The Force Awakens   \n",
       "4                     Furious 7   \n",
       "\n",
       "                                                cast  \\\n",
       "0  Chris Pratt|Bryce Dallas Howard|Irrfan Khan|Vi...   \n",
       "1  Tom Hardy|Charlize Theron|Hugh Keays-Byrne|Nic...   \n",
       "2  Shailene Woodley|Theo James|Kate Winslet|Ansel...   \n",
       "3  Harrison Ford|Mark Hamill|Carrie Fisher|Adam D...   \n",
       "4  Vin Diesel|Paul Walker|Jason Statham|Michelle ...   \n",
       "\n",
       "                                            homepage          director  \\\n",
       "0                      http://www.jurassicworld.com/   Colin Trevorrow   \n",
       "1                        http://www.madmaxmovie.com/     George Miller   \n",
       "2     http://www.thedivergentseries.movie/#insurgent  Robert Schwentke   \n",
       "3  http://www.starwars.com/films/star-wars-episod...       J.J. Abrams   \n",
       "4                           http://www.furious7.com/         James Wan   \n",
       "\n",
       "                         tagline  ...  \\\n",
       "0              The park is open.  ...   \n",
       "1             What a Lovely Day.  ...   \n",
       "2     One Choice Can Destroy You  ...   \n",
       "3  Every generation has a story.  ...   \n",
       "4            Vengeance Hits Home  ...   \n",
       "\n",
       "                                            overview runtime  \\\n",
       "0  Twenty-two years after the events of Jurassic ...     124   \n",
       "1  An apocalyptic story set in the furthest reach...     120   \n",
       "2  Beatrice Prior must confront her inner demons ...     119   \n",
       "3  Thirty years after defeating the Galactic Empi...     136   \n",
       "4  Deckard Shaw seeks revenge against Dominic Tor...     137   \n",
       "\n",
       "                                      genres  \\\n",
       "0  Action|Adventure|Science Fiction|Thriller   \n",
       "1  Action|Adventure|Science Fiction|Thriller   \n",
       "2         Adventure|Science Fiction|Thriller   \n",
       "3   Action|Adventure|Science Fiction|Fantasy   \n",
       "4                      Action|Crime|Thriller   \n",
       "\n",
       "                                production_companies release_date vote_count  \\\n",
       "0  Universal Studios|Amblin Entertainment|Legenda...       6/9/15       5562   \n",
       "1  Village Roadshow Pictures|Kennedy Miller Produ...      5/13/15       6185   \n",
       "2  Summit Entertainment|Mandeville Films|Red Wago...      3/18/15       2480   \n",
       "3          Lucasfilm|Truenorth Productions|Bad Robot     12/15/15       5292   \n",
       "4  Universal Pictures|Original Film|Media Rights ...       4/1/15       2947   \n",
       "\n",
       "   vote_average  release_year    budget_adj   revenue_adj  \n",
       "0           6.5          2015  1.379999e+08  1.392446e+09  \n",
       "1           7.1          2015  1.379999e+08  3.481613e+08  \n",
       "2           6.3          2015  1.012000e+08  2.716190e+08  \n",
       "3           7.5          2015  1.839999e+08  1.902723e+09  \n",
       "4           7.3          2015  1.747999e+08  1.385749e+09  \n",
       "\n",
       "[5 rows x 21 columns]"
      ]
     },
     "execution_count": 406,
     "metadata": {},
     "output_type": "execute_result"
    }
   ],
   "source": [
    "#check the data\n",
    "df.head()"
   ]
  },
  {
   "cell_type": "code",
   "execution_count": 407,
   "metadata": {},
   "outputs": [
    {
     "name": "stdout",
     "output_type": "stream",
     "text": [
      "<class 'pandas.core.frame.DataFrame'>\n",
      "RangeIndex: 10866 entries, 0 to 10865\n",
      "Data columns (total 21 columns):\n",
      " #   Column                Non-Null Count  Dtype  \n",
      "---  ------                --------------  -----  \n",
      " 0   id                    10866 non-null  int64  \n",
      " 1   imdb_id               10856 non-null  object \n",
      " 2   popularity            10866 non-null  float64\n",
      " 3   budget                10866 non-null  int64  \n",
      " 4   revenue               10866 non-null  int64  \n",
      " 5   original_title        10866 non-null  object \n",
      " 6   cast                  10790 non-null  object \n",
      " 7   homepage              2936 non-null   object \n",
      " 8   director              10822 non-null  object \n",
      " 9   tagline               8042 non-null   object \n",
      " 10  keywords              9373 non-null   object \n",
      " 11  overview              10862 non-null  object \n",
      " 12  runtime               10866 non-null  int64  \n",
      " 13  genres                10843 non-null  object \n",
      " 14  production_companies  9836 non-null   object \n",
      " 15  release_date          10866 non-null  object \n",
      " 16  vote_count            10866 non-null  int64  \n",
      " 17  vote_average          10866 non-null  float64\n",
      " 18  release_year          10866 non-null  int64  \n",
      " 19  budget_adj            10866 non-null  float64\n",
      " 20  revenue_adj           10866 non-null  float64\n",
      "dtypes: float64(4), int64(6), object(11)\n",
      "memory usage: 1.7+ MB\n"
     ]
    }
   ],
   "source": [
    "#check the info\n",
    "df.info()"
   ]
  },
  {
   "cell_type": "code",
   "execution_count": 408,
   "metadata": {},
   "outputs": [
    {
     "data": {
      "text/plain": [
       "(10866, 21)"
      ]
     },
     "execution_count": 408,
     "metadata": {},
     "output_type": "execute_result"
    }
   ],
   "source": [
    "#check the shape\n",
    "df.shape"
   ]
  },
  {
   "cell_type": "code",
   "execution_count": 409,
   "metadata": {},
   "outputs": [
    {
     "data": {
      "text/html": [
       "<div>\n",
       "<style scoped>\n",
       "    .dataframe tbody tr th:only-of-type {\n",
       "        vertical-align: middle;\n",
       "    }\n",
       "\n",
       "    .dataframe tbody tr th {\n",
       "        vertical-align: top;\n",
       "    }\n",
       "\n",
       "    .dataframe thead th {\n",
       "        text-align: right;\n",
       "    }\n",
       "</style>\n",
       "<table border=\"1\" class=\"dataframe\">\n",
       "  <thead>\n",
       "    <tr style=\"text-align: right;\">\n",
       "      <th></th>\n",
       "      <th>id</th>\n",
       "      <th>popularity</th>\n",
       "      <th>budget</th>\n",
       "      <th>revenue</th>\n",
       "      <th>runtime</th>\n",
       "      <th>vote_count</th>\n",
       "      <th>vote_average</th>\n",
       "      <th>release_year</th>\n",
       "      <th>budget_adj</th>\n",
       "      <th>revenue_adj</th>\n",
       "    </tr>\n",
       "  </thead>\n",
       "  <tbody>\n",
       "    <tr>\n",
       "      <th>count</th>\n",
       "      <td>10866.000000</td>\n",
       "      <td>10866.000000</td>\n",
       "      <td>1.086600e+04</td>\n",
       "      <td>1.086600e+04</td>\n",
       "      <td>10866.000000</td>\n",
       "      <td>10866.000000</td>\n",
       "      <td>10866.000000</td>\n",
       "      <td>10866.000000</td>\n",
       "      <td>1.086600e+04</td>\n",
       "      <td>1.086600e+04</td>\n",
       "    </tr>\n",
       "    <tr>\n",
       "      <th>mean</th>\n",
       "      <td>66064.177434</td>\n",
       "      <td>0.646441</td>\n",
       "      <td>1.462570e+07</td>\n",
       "      <td>3.982332e+07</td>\n",
       "      <td>102.070863</td>\n",
       "      <td>217.389748</td>\n",
       "      <td>5.974922</td>\n",
       "      <td>2001.322658</td>\n",
       "      <td>1.755104e+07</td>\n",
       "      <td>5.136436e+07</td>\n",
       "    </tr>\n",
       "    <tr>\n",
       "      <th>std</th>\n",
       "      <td>92130.136561</td>\n",
       "      <td>1.000185</td>\n",
       "      <td>3.091321e+07</td>\n",
       "      <td>1.170035e+08</td>\n",
       "      <td>31.381405</td>\n",
       "      <td>575.619058</td>\n",
       "      <td>0.935142</td>\n",
       "      <td>12.812941</td>\n",
       "      <td>3.430616e+07</td>\n",
       "      <td>1.446325e+08</td>\n",
       "    </tr>\n",
       "    <tr>\n",
       "      <th>min</th>\n",
       "      <td>5.000000</td>\n",
       "      <td>0.000065</td>\n",
       "      <td>0.000000e+00</td>\n",
       "      <td>0.000000e+00</td>\n",
       "      <td>0.000000</td>\n",
       "      <td>10.000000</td>\n",
       "      <td>1.500000</td>\n",
       "      <td>1960.000000</td>\n",
       "      <td>0.000000e+00</td>\n",
       "      <td>0.000000e+00</td>\n",
       "    </tr>\n",
       "    <tr>\n",
       "      <th>25%</th>\n",
       "      <td>10596.250000</td>\n",
       "      <td>0.207583</td>\n",
       "      <td>0.000000e+00</td>\n",
       "      <td>0.000000e+00</td>\n",
       "      <td>90.000000</td>\n",
       "      <td>17.000000</td>\n",
       "      <td>5.400000</td>\n",
       "      <td>1995.000000</td>\n",
       "      <td>0.000000e+00</td>\n",
       "      <td>0.000000e+00</td>\n",
       "    </tr>\n",
       "    <tr>\n",
       "      <th>50%</th>\n",
       "      <td>20669.000000</td>\n",
       "      <td>0.383856</td>\n",
       "      <td>0.000000e+00</td>\n",
       "      <td>0.000000e+00</td>\n",
       "      <td>99.000000</td>\n",
       "      <td>38.000000</td>\n",
       "      <td>6.000000</td>\n",
       "      <td>2006.000000</td>\n",
       "      <td>0.000000e+00</td>\n",
       "      <td>0.000000e+00</td>\n",
       "    </tr>\n",
       "    <tr>\n",
       "      <th>75%</th>\n",
       "      <td>75610.000000</td>\n",
       "      <td>0.713817</td>\n",
       "      <td>1.500000e+07</td>\n",
       "      <td>2.400000e+07</td>\n",
       "      <td>111.000000</td>\n",
       "      <td>145.750000</td>\n",
       "      <td>6.600000</td>\n",
       "      <td>2011.000000</td>\n",
       "      <td>2.085325e+07</td>\n",
       "      <td>3.369710e+07</td>\n",
       "    </tr>\n",
       "    <tr>\n",
       "      <th>max</th>\n",
       "      <td>417859.000000</td>\n",
       "      <td>32.985763</td>\n",
       "      <td>4.250000e+08</td>\n",
       "      <td>2.781506e+09</td>\n",
       "      <td>900.000000</td>\n",
       "      <td>9767.000000</td>\n",
       "      <td>9.200000</td>\n",
       "      <td>2015.000000</td>\n",
       "      <td>4.250000e+08</td>\n",
       "      <td>2.827124e+09</td>\n",
       "    </tr>\n",
       "  </tbody>\n",
       "</table>\n",
       "</div>"
      ],
      "text/plain": [
       "                  id    popularity        budget       revenue       runtime  \\\n",
       "count   10866.000000  10866.000000  1.086600e+04  1.086600e+04  10866.000000   \n",
       "mean    66064.177434      0.646441  1.462570e+07  3.982332e+07    102.070863   \n",
       "std     92130.136561      1.000185  3.091321e+07  1.170035e+08     31.381405   \n",
       "min         5.000000      0.000065  0.000000e+00  0.000000e+00      0.000000   \n",
       "25%     10596.250000      0.207583  0.000000e+00  0.000000e+00     90.000000   \n",
       "50%     20669.000000      0.383856  0.000000e+00  0.000000e+00     99.000000   \n",
       "75%     75610.000000      0.713817  1.500000e+07  2.400000e+07    111.000000   \n",
       "max    417859.000000     32.985763  4.250000e+08  2.781506e+09    900.000000   \n",
       "\n",
       "         vote_count  vote_average  release_year    budget_adj   revenue_adj  \n",
       "count  10866.000000  10866.000000  10866.000000  1.086600e+04  1.086600e+04  \n",
       "mean     217.389748      5.974922   2001.322658  1.755104e+07  5.136436e+07  \n",
       "std      575.619058      0.935142     12.812941  3.430616e+07  1.446325e+08  \n",
       "min       10.000000      1.500000   1960.000000  0.000000e+00  0.000000e+00  \n",
       "25%       17.000000      5.400000   1995.000000  0.000000e+00  0.000000e+00  \n",
       "50%       38.000000      6.000000   2006.000000  0.000000e+00  0.000000e+00  \n",
       "75%      145.750000      6.600000   2011.000000  2.085325e+07  3.369710e+07  \n",
       "max     9767.000000      9.200000   2015.000000  4.250000e+08  2.827124e+09  "
      ]
     },
     "execution_count": 409,
     "metadata": {},
     "output_type": "execute_result"
    }
   ],
   "source": [
    "#describe\n",
    "df.describe()"
   ]
  },
  {
   "cell_type": "markdown",
   "metadata": {},
   "source": [
    "### Data Cleaning (I'll remove the unused data and fix some problems in the data set in 5 steps)\n",
    "\n",
    "### what I need to do to clean the data:\n",
    "##### 1- I'll remove the columns I dont need to answer my quistions\n",
    "##### 2-I'll check and remove the duplicate|\n",
    "##### 3-I'll change the type of release_date to date type\n",
    "\n",
    "### there is  ZEROS in some coulmn which means there is no record for the value so I'll do the follwoing:\n",
    "##### 4-I'll change the zeros to NAN in the runtime column\n",
    "##### 5-I'll remove the rows with budget and revenue equals zero\n",
    "##### 6-I'll change the format of budget and revenue form float to int"
   ]
  },
  {
   "cell_type": "code",
   "execution_count": 410,
   "metadata": {},
   "outputs": [
    {
     "data": {
      "text/html": [
       "<div>\n",
       "<style scoped>\n",
       "    .dataframe tbody tr th:only-of-type {\n",
       "        vertical-align: middle;\n",
       "    }\n",
       "\n",
       "    .dataframe tbody tr th {\n",
       "        vertical-align: top;\n",
       "    }\n",
       "\n",
       "    .dataframe thead th {\n",
       "        text-align: right;\n",
       "    }\n",
       "</style>\n",
       "<table border=\"1\" class=\"dataframe\">\n",
       "  <thead>\n",
       "    <tr style=\"text-align: right;\">\n",
       "      <th></th>\n",
       "      <th>id</th>\n",
       "      <th>popularity</th>\n",
       "      <th>budget</th>\n",
       "      <th>revenue</th>\n",
       "      <th>original_title</th>\n",
       "      <th>cast</th>\n",
       "      <th>director</th>\n",
       "      <th>runtime</th>\n",
       "      <th>genres</th>\n",
       "      <th>production_companies</th>\n",
       "      <th>release_date</th>\n",
       "      <th>release_year</th>\n",
       "    </tr>\n",
       "  </thead>\n",
       "  <tbody>\n",
       "    <tr>\n",
       "      <th>0</th>\n",
       "      <td>135397</td>\n",
       "      <td>32.985763</td>\n",
       "      <td>150000000</td>\n",
       "      <td>1513528810</td>\n",
       "      <td>Jurassic World</td>\n",
       "      <td>Chris Pratt|Bryce Dallas Howard|Irrfan Khan|Vi...</td>\n",
       "      <td>Colin Trevorrow</td>\n",
       "      <td>124</td>\n",
       "      <td>Action|Adventure|Science Fiction|Thriller</td>\n",
       "      <td>Universal Studios|Amblin Entertainment|Legenda...</td>\n",
       "      <td>6/9/15</td>\n",
       "      <td>2015</td>\n",
       "    </tr>\n",
       "    <tr>\n",
       "      <th>1</th>\n",
       "      <td>76341</td>\n",
       "      <td>28.419936</td>\n",
       "      <td>150000000</td>\n",
       "      <td>378436354</td>\n",
       "      <td>Mad Max: Fury Road</td>\n",
       "      <td>Tom Hardy|Charlize Theron|Hugh Keays-Byrne|Nic...</td>\n",
       "      <td>George Miller</td>\n",
       "      <td>120</td>\n",
       "      <td>Action|Adventure|Science Fiction|Thriller</td>\n",
       "      <td>Village Roadshow Pictures|Kennedy Miller Produ...</td>\n",
       "      <td>5/13/15</td>\n",
       "      <td>2015</td>\n",
       "    </tr>\n",
       "    <tr>\n",
       "      <th>2</th>\n",
       "      <td>262500</td>\n",
       "      <td>13.112507</td>\n",
       "      <td>110000000</td>\n",
       "      <td>295238201</td>\n",
       "      <td>Insurgent</td>\n",
       "      <td>Shailene Woodley|Theo James|Kate Winslet|Ansel...</td>\n",
       "      <td>Robert Schwentke</td>\n",
       "      <td>119</td>\n",
       "      <td>Adventure|Science Fiction|Thriller</td>\n",
       "      <td>Summit Entertainment|Mandeville Films|Red Wago...</td>\n",
       "      <td>3/18/15</td>\n",
       "      <td>2015</td>\n",
       "    </tr>\n",
       "    <tr>\n",
       "      <th>3</th>\n",
       "      <td>140607</td>\n",
       "      <td>11.173104</td>\n",
       "      <td>200000000</td>\n",
       "      <td>2068178225</td>\n",
       "      <td>Star Wars: The Force Awakens</td>\n",
       "      <td>Harrison Ford|Mark Hamill|Carrie Fisher|Adam D...</td>\n",
       "      <td>J.J. Abrams</td>\n",
       "      <td>136</td>\n",
       "      <td>Action|Adventure|Science Fiction|Fantasy</td>\n",
       "      <td>Lucasfilm|Truenorth Productions|Bad Robot</td>\n",
       "      <td>12/15/15</td>\n",
       "      <td>2015</td>\n",
       "    </tr>\n",
       "    <tr>\n",
       "      <th>4</th>\n",
       "      <td>168259</td>\n",
       "      <td>9.335014</td>\n",
       "      <td>190000000</td>\n",
       "      <td>1506249360</td>\n",
       "      <td>Furious 7</td>\n",
       "      <td>Vin Diesel|Paul Walker|Jason Statham|Michelle ...</td>\n",
       "      <td>James Wan</td>\n",
       "      <td>137</td>\n",
       "      <td>Action|Crime|Thriller</td>\n",
       "      <td>Universal Pictures|Original Film|Media Rights ...</td>\n",
       "      <td>4/1/15</td>\n",
       "      <td>2015</td>\n",
       "    </tr>\n",
       "  </tbody>\n",
       "</table>\n",
       "</div>"
      ],
      "text/plain": [
       "       id  popularity     budget     revenue                original_title  \\\n",
       "0  135397   32.985763  150000000  1513528810                Jurassic World   \n",
       "1   76341   28.419936  150000000   378436354            Mad Max: Fury Road   \n",
       "2  262500   13.112507  110000000   295238201                     Insurgent   \n",
       "3  140607   11.173104  200000000  2068178225  Star Wars: The Force Awakens   \n",
       "4  168259    9.335014  190000000  1506249360                     Furious 7   \n",
       "\n",
       "                                                cast          director  \\\n",
       "0  Chris Pratt|Bryce Dallas Howard|Irrfan Khan|Vi...   Colin Trevorrow   \n",
       "1  Tom Hardy|Charlize Theron|Hugh Keays-Byrne|Nic...     George Miller   \n",
       "2  Shailene Woodley|Theo James|Kate Winslet|Ansel...  Robert Schwentke   \n",
       "3  Harrison Ford|Mark Hamill|Carrie Fisher|Adam D...       J.J. Abrams   \n",
       "4  Vin Diesel|Paul Walker|Jason Statham|Michelle ...         James Wan   \n",
       "\n",
       "   runtime                                     genres  \\\n",
       "0      124  Action|Adventure|Science Fiction|Thriller   \n",
       "1      120  Action|Adventure|Science Fiction|Thriller   \n",
       "2      119         Adventure|Science Fiction|Thriller   \n",
       "3      136   Action|Adventure|Science Fiction|Fantasy   \n",
       "4      137                      Action|Crime|Thriller   \n",
       "\n",
       "                                production_companies release_date  \\\n",
       "0  Universal Studios|Amblin Entertainment|Legenda...       6/9/15   \n",
       "1  Village Roadshow Pictures|Kennedy Miller Produ...      5/13/15   \n",
       "2  Summit Entertainment|Mandeville Films|Red Wago...      3/18/15   \n",
       "3          Lucasfilm|Truenorth Productions|Bad Robot     12/15/15   \n",
       "4  Universal Pictures|Original Film|Media Rights ...       4/1/15   \n",
       "\n",
       "   release_year  \n",
       "0          2015  \n",
       "1          2015  \n",
       "2          2015  \n",
       "3          2015  \n",
       "4          2015  "
      ]
     },
     "execution_count": 410,
     "metadata": {},
     "output_type": "execute_result"
    }
   ],
   "source": [
    "#first I will delete the columns I won't need\n",
    "df = df.drop(['imdb_id','budget_adj', 'revenue_adj',\n",
    "              'homepage', 'keywords','tagline' ,'overview',\n",
    "              'vote_count', 'vote_average'],1)\n",
    "#check\n",
    "df.head()"
   ]
  },
  {
   "cell_type": "code",
   "execution_count": 411,
   "metadata": {},
   "outputs": [
    {
     "data": {
      "text/plain": [
       "1"
      ]
     },
     "execution_count": 411,
     "metadata": {},
     "output_type": "execute_result"
    }
   ],
   "source": [
    "#Second I'll remove the duplicated rows\n",
    "#check duplicate\n",
    "sum(df.duplicated())"
   ]
  },
  {
   "cell_type": "code",
   "execution_count": 412,
   "metadata": {},
   "outputs": [
    {
     "data": {
      "text/plain": [
       "0"
      ]
     },
     "execution_count": 412,
     "metadata": {},
     "output_type": "execute_result"
    }
   ],
   "source": [
    "#we only have 1 so I'll drop it\n",
    "df.drop_duplicates(inplace=True)\n",
    "#check if it got removed\n",
    "sum(df.duplicated())"
   ]
  },
  {
   "cell_type": "code",
   "execution_count": 413,
   "metadata": {},
   "outputs": [
    {
     "data": {
      "text/html": [
       "<div>\n",
       "<style scoped>\n",
       "    .dataframe tbody tr th:only-of-type {\n",
       "        vertical-align: middle;\n",
       "    }\n",
       "\n",
       "    .dataframe tbody tr th {\n",
       "        vertical-align: top;\n",
       "    }\n",
       "\n",
       "    .dataframe thead th {\n",
       "        text-align: right;\n",
       "    }\n",
       "</style>\n",
       "<table border=\"1\" class=\"dataframe\">\n",
       "  <thead>\n",
       "    <tr style=\"text-align: right;\">\n",
       "      <th></th>\n",
       "      <th>id</th>\n",
       "      <th>popularity</th>\n",
       "      <th>budget</th>\n",
       "      <th>revenue</th>\n",
       "      <th>original_title</th>\n",
       "      <th>cast</th>\n",
       "      <th>director</th>\n",
       "      <th>runtime</th>\n",
       "      <th>genres</th>\n",
       "      <th>production_companies</th>\n",
       "      <th>release_date</th>\n",
       "      <th>release_year</th>\n",
       "    </tr>\n",
       "  </thead>\n",
       "  <tbody>\n",
       "    <tr>\n",
       "      <th>0</th>\n",
       "      <td>135397</td>\n",
       "      <td>32.985763</td>\n",
       "      <td>150000000</td>\n",
       "      <td>1513528810</td>\n",
       "      <td>Jurassic World</td>\n",
       "      <td>Chris Pratt|Bryce Dallas Howard|Irrfan Khan|Vi...</td>\n",
       "      <td>Colin Trevorrow</td>\n",
       "      <td>124</td>\n",
       "      <td>Action|Adventure|Science Fiction|Thriller</td>\n",
       "      <td>Universal Studios|Amblin Entertainment|Legenda...</td>\n",
       "      <td>2015-06-09</td>\n",
       "      <td>2015</td>\n",
       "    </tr>\n",
       "    <tr>\n",
       "      <th>1</th>\n",
       "      <td>76341</td>\n",
       "      <td>28.419936</td>\n",
       "      <td>150000000</td>\n",
       "      <td>378436354</td>\n",
       "      <td>Mad Max: Fury Road</td>\n",
       "      <td>Tom Hardy|Charlize Theron|Hugh Keays-Byrne|Nic...</td>\n",
       "      <td>George Miller</td>\n",
       "      <td>120</td>\n",
       "      <td>Action|Adventure|Science Fiction|Thriller</td>\n",
       "      <td>Village Roadshow Pictures|Kennedy Miller Produ...</td>\n",
       "      <td>2015-05-13</td>\n",
       "      <td>2015</td>\n",
       "    </tr>\n",
       "  </tbody>\n",
       "</table>\n",
       "</div>"
      ],
      "text/plain": [
       "       id  popularity     budget     revenue      original_title  \\\n",
       "0  135397   32.985763  150000000  1513528810      Jurassic World   \n",
       "1   76341   28.419936  150000000   378436354  Mad Max: Fury Road   \n",
       "\n",
       "                                                cast         director  \\\n",
       "0  Chris Pratt|Bryce Dallas Howard|Irrfan Khan|Vi...  Colin Trevorrow   \n",
       "1  Tom Hardy|Charlize Theron|Hugh Keays-Byrne|Nic...    George Miller   \n",
       "\n",
       "   runtime                                     genres  \\\n",
       "0      124  Action|Adventure|Science Fiction|Thriller   \n",
       "1      120  Action|Adventure|Science Fiction|Thriller   \n",
       "\n",
       "                                production_companies release_date  \\\n",
       "0  Universal Studios|Amblin Entertainment|Legenda...   2015-06-09   \n",
       "1  Village Roadshow Pictures|Kennedy Miller Produ...   2015-05-13   \n",
       "\n",
       "   release_year  \n",
       "0          2015  \n",
       "1          2015  "
      ]
     },
     "execution_count": 413,
     "metadata": {},
     "output_type": "execute_result"
    }
   ],
   "source": [
    "#third I'll change the type of release_date to date type\n",
    "df.release_date = pd.to_datetime(df['release_date'])\n",
    "#check\n",
    "df.head(2)"
   ]
  },
  {
   "cell_type": "code",
   "execution_count": 414,
   "metadata": {},
   "outputs": [
    {
     "data": {
      "text/html": [
       "<div>\n",
       "<style scoped>\n",
       "    .dataframe tbody tr th:only-of-type {\n",
       "        vertical-align: middle;\n",
       "    }\n",
       "\n",
       "    .dataframe tbody tr th {\n",
       "        vertical-align: top;\n",
       "    }\n",
       "\n",
       "    .dataframe thead th {\n",
       "        text-align: right;\n",
       "    }\n",
       "</style>\n",
       "<table border=\"1\" class=\"dataframe\">\n",
       "  <thead>\n",
       "    <tr style=\"text-align: right;\">\n",
       "      <th></th>\n",
       "      <th>id</th>\n",
       "      <th>popularity</th>\n",
       "      <th>budget</th>\n",
       "      <th>revenue</th>\n",
       "      <th>original_title</th>\n",
       "      <th>cast</th>\n",
       "      <th>director</th>\n",
       "      <th>runtime</th>\n",
       "      <th>genres</th>\n",
       "      <th>production_companies</th>\n",
       "      <th>release_date</th>\n",
       "      <th>release_year</th>\n",
       "    </tr>\n",
       "  </thead>\n",
       "  <tbody>\n",
       "    <tr>\n",
       "      <th>92</th>\n",
       "      <td>370687</td>\n",
       "      <td>1.876037</td>\n",
       "      <td>0</td>\n",
       "      <td>0</td>\n",
       "      <td>Mythica: The Necromancer</td>\n",
       "      <td>Melanie Stone|Adam Johnson|Kevin Sorbo|Nicola ...</td>\n",
       "      <td>A. Todd Smith</td>\n",
       "      <td>0</td>\n",
       "      <td>Fantasy|Action|Adventure</td>\n",
       "      <td>Arrowstorm Entertainment|Camera 40 Productions...</td>\n",
       "      <td>2015-12-19</td>\n",
       "      <td>2015</td>\n",
       "    </tr>\n",
       "    <tr>\n",
       "      <th>334</th>\n",
       "      <td>361931</td>\n",
       "      <td>0.357654</td>\n",
       "      <td>0</td>\n",
       "      <td>0</td>\n",
       "      <td>Ronaldo</td>\n",
       "      <td>Cristiano Ronaldo</td>\n",
       "      <td>Anthony Wonke</td>\n",
       "      <td>0</td>\n",
       "      <td>Documentary</td>\n",
       "      <td>On The Corner Films|We Came, We Saw, We Conque...</td>\n",
       "      <td>2015-11-09</td>\n",
       "      <td>2015</td>\n",
       "    </tr>\n",
       "    <tr>\n",
       "      <th>410</th>\n",
       "      <td>339342</td>\n",
       "      <td>0.097514</td>\n",
       "      <td>0</td>\n",
       "      <td>0</td>\n",
       "      <td>Anarchy Parlor</td>\n",
       "      <td>Robert LaSardo|Jordan James Smith|Sara Fabel|T...</td>\n",
       "      <td>Kenny Gage|Devon Downs</td>\n",
       "      <td>0</td>\n",
       "      <td>Horror</td>\n",
       "      <td>NaN</td>\n",
       "      <td>2015-01-01</td>\n",
       "      <td>2015</td>\n",
       "    </tr>\n",
       "    <tr>\n",
       "      <th>445</th>\n",
       "      <td>353345</td>\n",
       "      <td>0.218528</td>\n",
       "      <td>0</td>\n",
       "      <td>0</td>\n",
       "      <td>The Exorcism of Molly Hartley</td>\n",
       "      <td>Sarah Lind|Devon Sawa|Gina Holden|Peter MacNei...</td>\n",
       "      <td>Steven R. Monroe</td>\n",
       "      <td>0</td>\n",
       "      <td>Horror</td>\n",
       "      <td>WT Canada Productions</td>\n",
       "      <td>2015-10-09</td>\n",
       "      <td>2015</td>\n",
       "    </tr>\n",
       "    <tr>\n",
       "      <th>486</th>\n",
       "      <td>333653</td>\n",
       "      <td>0.176744</td>\n",
       "      <td>0</td>\n",
       "      <td>0</td>\n",
       "      <td>If There Be Thorns</td>\n",
       "      <td>Heather Graham|Jason Lewis|Rachael Carpani|Mas...</td>\n",
       "      <td>Nancy Savoca</td>\n",
       "      <td>0</td>\n",
       "      <td>TV Movie|Drama</td>\n",
       "      <td>A+E Studios|Jane Startz Productions</td>\n",
       "      <td>2015-04-05</td>\n",
       "      <td>2015</td>\n",
       "    </tr>\n",
       "  </tbody>\n",
       "</table>\n",
       "</div>"
      ],
      "text/plain": [
       "         id  popularity  budget  revenue                 original_title  \\\n",
       "92   370687    1.876037       0        0       Mythica: The Necromancer   \n",
       "334  361931    0.357654       0        0                        Ronaldo   \n",
       "410  339342    0.097514       0        0                 Anarchy Parlor   \n",
       "445  353345    0.218528       0        0  The Exorcism of Molly Hartley   \n",
       "486  333653    0.176744       0        0             If There Be Thorns   \n",
       "\n",
       "                                                  cast  \\\n",
       "92   Melanie Stone|Adam Johnson|Kevin Sorbo|Nicola ...   \n",
       "334                                  Cristiano Ronaldo   \n",
       "410  Robert LaSardo|Jordan James Smith|Sara Fabel|T...   \n",
       "445  Sarah Lind|Devon Sawa|Gina Holden|Peter MacNei...   \n",
       "486  Heather Graham|Jason Lewis|Rachael Carpani|Mas...   \n",
       "\n",
       "                   director  runtime                    genres  \\\n",
       "92            A. Todd Smith        0  Fantasy|Action|Adventure   \n",
       "334           Anthony Wonke        0               Documentary   \n",
       "410  Kenny Gage|Devon Downs        0                    Horror   \n",
       "445        Steven R. Monroe        0                    Horror   \n",
       "486            Nancy Savoca        0            TV Movie|Drama   \n",
       "\n",
       "                                  production_companies release_date  \\\n",
       "92   Arrowstorm Entertainment|Camera 40 Productions...   2015-12-19   \n",
       "334  On The Corner Films|We Came, We Saw, We Conque...   2015-11-09   \n",
       "410                                                NaN   2015-01-01   \n",
       "445                              WT Canada Productions   2015-10-09   \n",
       "486                A+E Studios|Jane Startz Productions   2015-04-05   \n",
       "\n",
       "     release_year  \n",
       "92           2015  \n",
       "334          2015  \n",
       "410          2015  \n",
       "445          2015  \n",
       "486          2015  "
      ]
     },
     "execution_count": 414,
     "metadata": {},
     "output_type": "execute_result"
    }
   ],
   "source": [
    "#forth I'll change the zeros to NAN in the runtime column\n",
    "#first check the rows with runtime zero\n",
    "df[df.runtime == 0].head()"
   ]
  },
  {
   "cell_type": "code",
   "execution_count": 415,
   "metadata": {},
   "outputs": [
    {
     "data": {
      "text/html": [
       "<div>\n",
       "<style scoped>\n",
       "    .dataframe tbody tr th:only-of-type {\n",
       "        vertical-align: middle;\n",
       "    }\n",
       "\n",
       "    .dataframe tbody tr th {\n",
       "        vertical-align: top;\n",
       "    }\n",
       "\n",
       "    .dataframe thead th {\n",
       "        text-align: right;\n",
       "    }\n",
       "</style>\n",
       "<table border=\"1\" class=\"dataframe\">\n",
       "  <thead>\n",
       "    <tr style=\"text-align: right;\">\n",
       "      <th></th>\n",
       "      <th>id</th>\n",
       "      <th>popularity</th>\n",
       "      <th>budget</th>\n",
       "      <th>revenue</th>\n",
       "      <th>original_title</th>\n",
       "      <th>cast</th>\n",
       "      <th>director</th>\n",
       "      <th>runtime</th>\n",
       "      <th>genres</th>\n",
       "      <th>production_companies</th>\n",
       "      <th>release_date</th>\n",
       "      <th>release_year</th>\n",
       "    </tr>\n",
       "  </thead>\n",
       "  <tbody>\n",
       "  </tbody>\n",
       "</table>\n",
       "</div>"
      ],
      "text/plain": [
       "Empty DataFrame\n",
       "Columns: [id, popularity, budget, revenue, original_title, cast, director, runtime, genres, production_companies, release_date, release_year]\n",
       "Index: []"
      ]
     },
     "execution_count": 415,
     "metadata": {},
     "output_type": "execute_result"
    }
   ],
   "source": [
    "#replace the zeros with NAN\n",
    "df['runtime'] =df['runtime'].replace(0, np.NAN)\n",
    "#check again\n",
    "df[df.runtime == 0]"
   ]
  },
  {
   "cell_type": "code",
   "execution_count": 416,
   "metadata": {},
   "outputs": [],
   "source": [
    "#fifth I'll remove the rows with budget  and revenue equals zero\n",
    "#first I'll replace the zeros with NAN\n",
    "df[['budget','revenue']] = df[['budget','revenue']].replace(0, np.NAN)"
   ]
  },
  {
   "cell_type": "code",
   "execution_count": 417,
   "metadata": {},
   "outputs": [],
   "source": [
    "#then I'll remove the rows with NAN budget or revenue\n",
    "df.dropna(subset = ['budget' ,'revenue'], inplace= True)"
   ]
  },
  {
   "cell_type": "code",
   "execution_count": 418,
   "metadata": {},
   "outputs": [],
   "source": [
    "#sixth I'll change the format of budget and revenue form float to int\n",
    "df[['budget', 'revenue']]=df[['budget', 'revenue']].applymap(np.int64)"
   ]
  },
  {
   "cell_type": "code",
   "execution_count": 419,
   "metadata": {},
   "outputs": [
    {
     "name": "stdout",
     "output_type": "stream",
     "text": [
      "<class 'pandas.core.frame.DataFrame'>\n",
      "Int64Index: 3854 entries, 0 to 10848\n",
      "Data columns (total 12 columns):\n",
      " #   Column                Non-Null Count  Dtype         \n",
      "---  ------                --------------  -----         \n",
      " 0   id                    3854 non-null   int64         \n",
      " 1   popularity            3854 non-null   float64       \n",
      " 2   budget                3854 non-null   int64         \n",
      " 3   revenue               3854 non-null   int64         \n",
      " 4   original_title        3854 non-null   object        \n",
      " 5   cast                  3850 non-null   object        \n",
      " 6   director              3853 non-null   object        \n",
      " 7   runtime               3854 non-null   float64       \n",
      " 8   genres                3854 non-null   object        \n",
      " 9   production_companies  3808 non-null   object        \n",
      " 10  release_date          3854 non-null   datetime64[ns]\n",
      " 11  release_year          3854 non-null   int64         \n",
      "dtypes: datetime64[ns](1), float64(2), int64(4), object(5)\n",
      "memory usage: 391.4+ KB\n"
     ]
    }
   ],
   "source": [
    "#check\n",
    "df.info()"
   ]
  },
  {
   "cell_type": "markdown",
   "metadata": {},
   "source": [
    "<a id='eda'></a>\n",
    "## Exploratory Data Analysis"
   ]
  },
  {
   "cell_type": "code",
   "execution_count": 420,
   "metadata": {},
   "outputs": [
    {
     "data": {
      "text/html": [
       "<div>\n",
       "<style scoped>\n",
       "    .dataframe tbody tr th:only-of-type {\n",
       "        vertical-align: middle;\n",
       "    }\n",
       "\n",
       "    .dataframe tbody tr th {\n",
       "        vertical-align: top;\n",
       "    }\n",
       "\n",
       "    .dataframe thead th {\n",
       "        text-align: right;\n",
       "    }\n",
       "</style>\n",
       "<table border=\"1\" class=\"dataframe\">\n",
       "  <thead>\n",
       "    <tr style=\"text-align: right;\">\n",
       "      <th></th>\n",
       "      <th>id</th>\n",
       "      <th>popularity</th>\n",
       "      <th>budget</th>\n",
       "      <th>revenue</th>\n",
       "      <th>original_title</th>\n",
       "      <th>cast</th>\n",
       "      <th>director</th>\n",
       "      <th>runtime</th>\n",
       "      <th>genres</th>\n",
       "      <th>production_companies</th>\n",
       "      <th>release_date</th>\n",
       "      <th>release_year</th>\n",
       "    </tr>\n",
       "  </thead>\n",
       "  <tbody>\n",
       "    <tr>\n",
       "      <th>0</th>\n",
       "      <td>135397</td>\n",
       "      <td>32.985763</td>\n",
       "      <td>150000000</td>\n",
       "      <td>1513528810</td>\n",
       "      <td>Jurassic World</td>\n",
       "      <td>Chris Pratt|Bryce Dallas Howard|Irrfan Khan|Vi...</td>\n",
       "      <td>Colin Trevorrow</td>\n",
       "      <td>124.0</td>\n",
       "      <td>Action|Adventure|Science Fiction|Thriller</td>\n",
       "      <td>Universal Studios|Amblin Entertainment|Legenda...</td>\n",
       "      <td>2015-06-09</td>\n",
       "      <td>2015</td>\n",
       "    </tr>\n",
       "  </tbody>\n",
       "</table>\n",
       "</div>"
      ],
      "text/plain": [
       "       id  popularity     budget     revenue  original_title  \\\n",
       "0  135397   32.985763  150000000  1513528810  Jurassic World   \n",
       "\n",
       "                                                cast         director  \\\n",
       "0  Chris Pratt|Bryce Dallas Howard|Irrfan Khan|Vi...  Colin Trevorrow   \n",
       "\n",
       "   runtime                                     genres  \\\n",
       "0    124.0  Action|Adventure|Science Fiction|Thriller   \n",
       "\n",
       "                                production_companies release_date  \\\n",
       "0  Universal Studios|Amblin Entertainment|Legenda...   2015-06-09   \n",
       "\n",
       "   release_year  \n",
       "0          2015  "
      ]
     },
     "execution_count": 420,
     "metadata": {},
     "output_type": "execute_result"
    }
   ],
   "source": [
    "#check the data after cleaning\n",
    "df.head(1)"
   ]
  },
  {
   "cell_type": "code",
   "execution_count": 421,
   "metadata": {},
   "outputs": [
    {
     "data": {
      "text/html": [
       "<div>\n",
       "<style scoped>\n",
       "    .dataframe tbody tr th:only-of-type {\n",
       "        vertical-align: middle;\n",
       "    }\n",
       "\n",
       "    .dataframe tbody tr th {\n",
       "        vertical-align: top;\n",
       "    }\n",
       "\n",
       "    .dataframe thead th {\n",
       "        text-align: right;\n",
       "    }\n",
       "</style>\n",
       "<table border=\"1\" class=\"dataframe\">\n",
       "  <thead>\n",
       "    <tr style=\"text-align: right;\">\n",
       "      <th></th>\n",
       "      <th>id</th>\n",
       "      <th>total_profits</th>\n",
       "      <th>popularity</th>\n",
       "      <th>budget</th>\n",
       "      <th>revenue</th>\n",
       "      <th>original_title</th>\n",
       "      <th>cast</th>\n",
       "      <th>director</th>\n",
       "      <th>runtime</th>\n",
       "      <th>genres</th>\n",
       "      <th>production_companies</th>\n",
       "      <th>release_date</th>\n",
       "      <th>release_year</th>\n",
       "    </tr>\n",
       "  </thead>\n",
       "  <tbody>\n",
       "    <tr>\n",
       "      <th>0</th>\n",
       "      <td>135397</td>\n",
       "      <td>1363528810</td>\n",
       "      <td>32.985763</td>\n",
       "      <td>150000000</td>\n",
       "      <td>1513528810</td>\n",
       "      <td>Jurassic World</td>\n",
       "      <td>Chris Pratt|Bryce Dallas Howard|Irrfan Khan|Vi...</td>\n",
       "      <td>Colin Trevorrow</td>\n",
       "      <td>124.0</td>\n",
       "      <td>Action|Adventure|Science Fiction|Thriller</td>\n",
       "      <td>Universal Studios|Amblin Entertainment|Legenda...</td>\n",
       "      <td>2015-06-09</td>\n",
       "      <td>2015</td>\n",
       "    </tr>\n",
       "  </tbody>\n",
       "</table>\n",
       "</div>"
      ],
      "text/plain": [
       "       id  total_profits  popularity     budget     revenue  original_title  \\\n",
       "0  135397     1363528810   32.985763  150000000  1513528810  Jurassic World   \n",
       "\n",
       "                                                cast         director  \\\n",
       "0  Chris Pratt|Bryce Dallas Howard|Irrfan Khan|Vi...  Colin Trevorrow   \n",
       "\n",
       "   runtime                                     genres  \\\n",
       "0    124.0  Action|Adventure|Science Fiction|Thriller   \n",
       "\n",
       "                                production_companies release_date  \\\n",
       "0  Universal Studios|Amblin Entertainment|Legenda...   2015-06-09   \n",
       "\n",
       "   release_year  \n",
       "0          2015  "
      ]
     },
     "execution_count": 421,
     "metadata": {},
     "output_type": "execute_result"
    }
   ],
   "source": [
    "#I'll add a column for the total profits (revenue - budget)\n",
    "df.insert(1,'total_profits',df['revenue'] - df['budget'])\n",
    "#check\n",
    "df.head(1)"
   ]
  },
  {
   "cell_type": "markdown",
   "metadata": {},
   "source": [
    "### Research Question 1 (did the total Profits increased from the year 1960  until 2015 ?)"
   ]
  },
  {
   "cell_type": "code",
   "execution_count": 422,
   "metadata": {},
   "outputs": [
    {
     "data": {
      "text/html": [
       "<div>\n",
       "<style scoped>\n",
       "    .dataframe tbody tr th:only-of-type {\n",
       "        vertical-align: middle;\n",
       "    }\n",
       "\n",
       "    .dataframe tbody tr th {\n",
       "        vertical-align: top;\n",
       "    }\n",
       "\n",
       "    .dataframe thead th {\n",
       "        text-align: right;\n",
       "    }\n",
       "</style>\n",
       "<table border=\"1\" class=\"dataframe\">\n",
       "  <thead>\n",
       "    <tr style=\"text-align: right;\">\n",
       "      <th></th>\n",
       "      <th>id</th>\n",
       "      <th>total_profits</th>\n",
       "      <th>popularity</th>\n",
       "      <th>budget</th>\n",
       "      <th>revenue</th>\n",
       "      <th>runtime</th>\n",
       "    </tr>\n",
       "    <tr>\n",
       "      <th>release_year</th>\n",
       "      <th></th>\n",
       "      <th></th>\n",
       "      <th></th>\n",
       "      <th></th>\n",
       "      <th></th>\n",
       "      <th></th>\n",
       "    </tr>\n",
       "  </thead>\n",
       "  <tbody>\n",
       "    <tr>\n",
       "      <th>1960</th>\n",
       "      <td>21729</td>\n",
       "      <td>108198052</td>\n",
       "      <td>6.622565</td>\n",
       "      <td>20806948</td>\n",
       "      <td>129005000</td>\n",
       "      <td>650.0</td>\n",
       "    </tr>\n",
       "    <tr>\n",
       "      <th>1961</th>\n",
       "      <td>110039</td>\n",
       "      <td>299083188</td>\n",
       "      <td>7.877177</td>\n",
       "      <td>38637000</td>\n",
       "      <td>337720188</td>\n",
       "      <td>1325.0</td>\n",
       "    </tr>\n",
       "    <tr>\n",
       "      <th>1962</th>\n",
       "      <td>27842</td>\n",
       "      <td>166879846</td>\n",
       "      <td>6.884396</td>\n",
       "      <td>39450000</td>\n",
       "      <td>206329846</td>\n",
       "      <td>989.0</td>\n",
       "    </tr>\n",
       "    <tr>\n",
       "      <th>1963</th>\n",
       "      <td>47815</td>\n",
       "      <td>115411882</td>\n",
       "      <td>6.243670</td>\n",
       "      <td>61115000</td>\n",
       "      <td>176526882</td>\n",
       "      <td>921.0</td>\n",
       "    </tr>\n",
       "    <tr>\n",
       "      <th>1964</th>\n",
       "      <td>29052</td>\n",
       "      <td>294678387</td>\n",
       "      <td>9.644529</td>\n",
       "      <td>33935161</td>\n",
       "      <td>328613548</td>\n",
       "      <td>857.0</td>\n",
       "    </tr>\n",
       "  </tbody>\n",
       "</table>\n",
       "</div>"
      ],
      "text/plain": [
       "                  id  total_profits  popularity    budget    revenue  runtime\n",
       "release_year                                                                 \n",
       "1960           21729      108198052    6.622565  20806948  129005000    650.0\n",
       "1961          110039      299083188    7.877177  38637000  337720188   1325.0\n",
       "1962           27842      166879846    6.884396  39450000  206329846    989.0\n",
       "1963           47815      115411882    6.243670  61115000  176526882    921.0\n",
       "1964           29052      294678387    9.644529  33935161  328613548    857.0"
      ]
     },
     "execution_count": 422,
     "metadata": {},
     "output_type": "execute_result"
    }
   ],
   "source": [
    "#first get the sum for every year\n",
    "profits_year = df.groupby(['release_year']).sum()\n",
    "#check\n",
    "profits_year.head()"
   ]
  },
  {
   "cell_type": "code",
   "execution_count": 423,
   "metadata": {},
   "outputs": [
    {
     "data": {
      "image/png": "[encoded data removed]",
      "text/plain": [
       "<Figure size 432x288 with 1 Axes>"
      ]
     },
     "metadata": {
      "needs_background": "light"
     },
     "output_type": "display_data"
    }
   ],
   "source": [
    "#make the plot\n",
    "plt.plot(profits_year.total_profits)\n",
    "#put the labels\n",
    "plt.title('Compare the total profits (1960-2015)')\n",
    "plt.xlabel('Year')\n",
    "plt.ylabel('total profits')\n",
    "#show the plot\n",
    "plt.show()"
   ]
  },
  {
   "cell_type": "markdown",
   "metadata": {},
   "source": [
    "# Answer 1/ from the plot we see that the total profits have increased a lot since 1960"
   ]
  },
  {
   "cell_type": "markdown",
   "metadata": {},
   "source": [
    "### Research Question 2 (which genres are most and least successfull)"
   ]
  },
  {
   "cell_type": "code",
   "execution_count": 424,
   "metadata": {},
   "outputs": [],
   "source": [
    "#first I need to choose which movies are consider successfull\n",
    "#I'll take the movies that has total profits more than the average\n",
    "su_movies = df[df['total_profits'] >= df.total_profits.mean()]\n",
    "\n",
    "#I will make the index start from 1 and not from 0\n",
    "su_movies.index = su_movies.index + 1"
   ]
  },
  {
   "cell_type": "code",
   "execution_count": 425,
   "metadata": {},
   "outputs": [
    {
     "data": {
      "text/html": [
       "<div>\n",
       "<style scoped>\n",
       "    .dataframe tbody tr th:only-of-type {\n",
       "        vertical-align: middle;\n",
       "    }\n",
       "\n",
       "    .dataframe tbody tr th {\n",
       "        vertical-align: top;\n",
       "    }\n",
       "\n",
       "    .dataframe thead th {\n",
       "        text-align: right;\n",
       "    }\n",
       "</style>\n",
       "<table border=\"1\" class=\"dataframe\">\n",
       "  <thead>\n",
       "    <tr style=\"text-align: right;\">\n",
       "      <th></th>\n",
       "      <th>id</th>\n",
       "      <th>total_profits</th>\n",
       "      <th>popularity</th>\n",
       "      <th>budget</th>\n",
       "      <th>revenue</th>\n",
       "      <th>original_title</th>\n",
       "      <th>cast</th>\n",
       "      <th>director</th>\n",
       "      <th>runtime</th>\n",
       "      <th>genres</th>\n",
       "      <th>production_companies</th>\n",
       "      <th>release_date</th>\n",
       "      <th>release_year</th>\n",
       "    </tr>\n",
       "  </thead>\n",
       "  <tbody>\n",
       "    <tr>\n",
       "      <th>1</th>\n",
       "      <td>135397</td>\n",
       "      <td>1363528810</td>\n",
       "      <td>32.985763</td>\n",
       "      <td>150000000</td>\n",
       "      <td>1513528810</td>\n",
       "      <td>Jurassic World</td>\n",
       "      <td>Chris Pratt|Bryce Dallas Howard|Irrfan Khan|Vi...</td>\n",
       "      <td>Colin Trevorrow</td>\n",
       "      <td>124.0</td>\n",
       "      <td>Action|Adventure|Science Fiction|Thriller</td>\n",
       "      <td>Universal Studios|Amblin Entertainment|Legenda...</td>\n",
       "      <td>2015-06-09</td>\n",
       "      <td>2015</td>\n",
       "    </tr>\n",
       "    <tr>\n",
       "      <th>2</th>\n",
       "      <td>76341</td>\n",
       "      <td>228436354</td>\n",
       "      <td>28.419936</td>\n",
       "      <td>150000000</td>\n",
       "      <td>378436354</td>\n",
       "      <td>Mad Max: Fury Road</td>\n",
       "      <td>Tom Hardy|Charlize Theron|Hugh Keays-Byrne|Nic...</td>\n",
       "      <td>George Miller</td>\n",
       "      <td>120.0</td>\n",
       "      <td>Action|Adventure|Science Fiction|Thriller</td>\n",
       "      <td>Village Roadshow Pictures|Kennedy Miller Produ...</td>\n",
       "      <td>2015-05-13</td>\n",
       "      <td>2015</td>\n",
       "    </tr>\n",
       "    <tr>\n",
       "      <th>3</th>\n",
       "      <td>262500</td>\n",
       "      <td>185238201</td>\n",
       "      <td>13.112507</td>\n",
       "      <td>110000000</td>\n",
       "      <td>295238201</td>\n",
       "      <td>Insurgent</td>\n",
       "      <td>Shailene Woodley|Theo James|Kate Winslet|Ansel...</td>\n",
       "      <td>Robert Schwentke</td>\n",
       "      <td>119.0</td>\n",
       "      <td>Adventure|Science Fiction|Thriller</td>\n",
       "      <td>Summit Entertainment|Mandeville Films|Red Wago...</td>\n",
       "      <td>2015-03-18</td>\n",
       "      <td>2015</td>\n",
       "    </tr>\n",
       "  </tbody>\n",
       "</table>\n",
       "</div>"
      ],
      "text/plain": [
       "       id  total_profits  popularity     budget     revenue  \\\n",
       "1  135397     1363528810   32.985763  150000000  1513528810   \n",
       "2   76341      228436354   28.419936  150000000   378436354   \n",
       "3  262500      185238201   13.112507  110000000   295238201   \n",
       "\n",
       "       original_title                                               cast  \\\n",
       "1      Jurassic World  Chris Pratt|Bryce Dallas Howard|Irrfan Khan|Vi...   \n",
       "2  Mad Max: Fury Road  Tom Hardy|Charlize Theron|Hugh Keays-Byrne|Nic...   \n",
       "3           Insurgent  Shailene Woodley|Theo James|Kate Winslet|Ansel...   \n",
       "\n",
       "           director  runtime                                     genres  \\\n",
       "1   Colin Trevorrow    124.0  Action|Adventure|Science Fiction|Thriller   \n",
       "2     George Miller    120.0  Action|Adventure|Science Fiction|Thriller   \n",
       "3  Robert Schwentke    119.0         Adventure|Science Fiction|Thriller   \n",
       "\n",
       "                                production_companies release_date  \\\n",
       "1  Universal Studios|Amblin Entertainment|Legenda...   2015-06-09   \n",
       "2  Village Roadshow Pictures|Kennedy Miller Produ...   2015-05-13   \n",
       "3  Summit Entertainment|Mandeville Films|Red Wago...   2015-03-18   \n",
       "\n",
       "   release_year  \n",
       "1          2015  \n",
       "2          2015  \n",
       "3          2015  "
      ]
     },
     "execution_count": 425,
     "metadata": {},
     "output_type": "execute_result"
    }
   ],
   "source": [
    "#check\n",
    "su_movies.head(3)"
   ]
  },
  {
   "cell_type": "code",
   "execution_count": 426,
   "metadata": {},
   "outputs": [
    {
     "data": {
      "text/plain": [
       "(1066, 13)"
      ]
     },
     "execution_count": 426,
     "metadata": {},
     "output_type": "execute_result"
    }
   ],
   "source": [
    "#check the shape\n",
    "su_movies.shape\n",
    "#we have 1066 rows now as successfull movies"
   ]
  },
  {
   "cell_type": "code",
   "execution_count": 427,
   "metadata": {},
   "outputs": [],
   "source": [
    "#I will make function to seprate the movies with more than one genres,actor..etc\n",
    "def split(column):\n",
    "    #I will make new column called sepData and seprate the Strings wtih |\n",
    "    spData = su_movies[column].str.cat(sep = '|')\n",
    "    #split the values\n",
    "    spData = pd.Series(spData.split('|'))    \n",
    "    #arrange it and make it decending\n",
    "    spData = spData.value_counts(ascending = False)\n",
    "    #return value\n",
    "    return spData"
   ]
  },
  {
   "cell_type": "code",
   "execution_count": 428,
   "metadata": {},
   "outputs": [],
   "source": [
    "#using the function\n",
    "sep_su_movies = split('genres')"
   ]
  },
  {
   "cell_type": "code",
   "execution_count": 429,
   "metadata": {},
   "outputs": [
    {
     "data": {
      "text/plain": [
       "Comedy       386\n",
       "Action       385\n",
       "Drama        368\n",
       "Adventure    321\n",
       "Thriller     312\n",
       "dtype: int64"
      ]
     },
     "execution_count": 429,
     "metadata": {},
     "output_type": "execute_result"
    }
   ],
   "source": [
    "#check\n",
    "sep_su_movies.head()"
   ]
  },
  {
   "cell_type": "code",
   "execution_count": 430,
   "metadata": {},
   "outputs": [
    {
     "data": {
      "image/png": "[encoded data removed]",
      "text/plain": [
       "<Figure size 864x648 with 1 Axes>"
      ]
     },
     "metadata": {
      "needs_background": "light"
     },
     "output_type": "display_data"
    }
   ],
   "source": [
    "#now that I have the number of every genre I will make the graph\n",
    "#I'll make it bargraph and the fontsize will be 16\n",
    "splt = sep_su_movies.plot(kind='bar' , fontsize =16);\n",
    "#now I'll make the graph bigger\n",
    "splt.figure.set_size_inches(12, 9)\n",
    "#add labels\n",
    "plt.title('Most Successful geners', fontsize =16)\n",
    "plt.ylabel('Number of successful movies', fontsize =16)#show it\n",
    "plt.show()"
   ]
  },
  {
   "cell_type": "markdown",
   "metadata": {},
   "source": [
    "# Answer 2/ From the graph we see that the most successfull geners is Comdey, Action then Darma and the least is Documentary, Westren then History"
   ]
  },
  {
   "cell_type": "markdown",
   "metadata": {},
   "source": [
    "### Research Question 3 (which director has the most successfull movies)"
   ]
  },
  {
   "cell_type": "code",
   "execution_count": 431,
   "metadata": {},
   "outputs": [],
   "source": [
    "#using the function\n",
    "sDirector = split('director')"
   ]
  },
  {
   "cell_type": "code",
   "execution_count": 432,
   "metadata": {},
   "outputs": [
    {
     "data": {
      "text/plain": [
       "Steven Spielberg      22\n",
       "Robert Zemeckis       12\n",
       "Ridley Scott          10\n",
       "Tim Burton             9\n",
       "M. Night Shyamalan     8\n",
       "dtype: int64"
      ]
     },
     "execution_count": 432,
     "metadata": {},
     "output_type": "execute_result"
    }
   ],
   "source": [
    "#check\n",
    "sDirector.head()"
   ]
  },
  {
   "cell_type": "markdown",
   "metadata": {},
   "source": [
    "# Answer 3/ Steven Spielberg is the one with 22 successful movie"
   ]
  },
  {
   "cell_type": "markdown",
   "metadata": {},
   "source": [
    "### Research Question 4 (what is the mean runtime, budget for successful movies)"
   ]
  },
  {
   "cell_type": "code",
   "execution_count": 433,
   "metadata": {},
   "outputs": [
    {
     "data": {
      "text/plain": [
       "'the average is: 114.66697936210132'"
      ]
     },
     "execution_count": 433,
     "metadata": {},
     "output_type": "execute_result"
    }
   ],
   "source": [
    "#average function\n",
    "def calculateAvg(column):\n",
    "    avg = su_movies[column].mean()\n",
    "    return 'the average is: ' + str(avg)\n",
    "\n",
    "#runtime\n",
    "calculateAvg('runtime')"
   ]
  },
  {
   "cell_type": "code",
   "execution_count": 434,
   "metadata": {},
   "outputs": [
    {
     "data": {
      "text/plain": [
       "'the average is: 66525485.24577861'"
      ]
     },
     "execution_count": 434,
     "metadata": {},
     "output_type": "execute_result"
    }
   ],
   "source": [
    "#budget\n",
    "calculateAvg('budget')"
   ]
  },
  {
   "cell_type": "markdown",
   "metadata": {},
   "source": [
    "# Answer 4/  the mean runtime for the successful movies are 114.6\n",
    "# and the mean budget for the successful movies are 66525485"
   ]
  },
  {
   "cell_type": "markdown",
   "metadata": {},
   "source": [
    "### Research Question 5 (why Steven Spielberg does have the most successful movies ?)"
   ]
  },
  {
   "cell_type": "code",
   "execution_count": 435,
   "metadata": {},
   "outputs": [
    {
     "data": {
      "text/html": [
       "<div>\n",
       "<style scoped>\n",
       "    .dataframe tbody tr th:only-of-type {\n",
       "        vertical-align: middle;\n",
       "    }\n",
       "\n",
       "    .dataframe tbody tr th {\n",
       "        vertical-align: top;\n",
       "    }\n",
       "\n",
       "    .dataframe thead th {\n",
       "        text-align: right;\n",
       "    }\n",
       "</style>\n",
       "<table border=\"1\" class=\"dataframe\">\n",
       "  <thead>\n",
       "    <tr style=\"text-align: right;\">\n",
       "      <th></th>\n",
       "      <th>id</th>\n",
       "      <th>total_profits</th>\n",
       "      <th>popularity</th>\n",
       "      <th>budget</th>\n",
       "      <th>revenue</th>\n",
       "      <th>original_title</th>\n",
       "      <th>cast</th>\n",
       "      <th>director</th>\n",
       "      <th>runtime</th>\n",
       "      <th>genres</th>\n",
       "      <th>production_companies</th>\n",
       "      <th>release_date</th>\n",
       "      <th>release_year</th>\n",
       "    </tr>\n",
       "  </thead>\n",
       "  <tbody>\n",
       "    <tr>\n",
       "      <th>34</th>\n",
       "      <td>296098</td>\n",
       "      <td>122610473</td>\n",
       "      <td>3.648210</td>\n",
       "      <td>40000000</td>\n",
       "      <td>162610473</td>\n",
       "      <td>Bridge of Spies</td>\n",
       "      <td>Tom Hanks|Mark Rylance|Amy Ryan|Alan Alda|Seba...</td>\n",
       "      <td>Steven Spielberg</td>\n",
       "      <td>141.0</td>\n",
       "      <td>Thriller|Drama</td>\n",
       "      <td>DreamWorks SKG|Amblin Entertainment|Studio Bab...</td>\n",
       "      <td>2015-10-15</td>\n",
       "      <td>2015</td>\n",
       "    </tr>\n",
       "    <tr>\n",
       "      <th>1335</th>\n",
       "      <td>840</td>\n",
       "      <td>283788635</td>\n",
       "      <td>1.104816</td>\n",
       "      <td>20000000</td>\n",
       "      <td>303788635</td>\n",
       "      <td>Close Encounters of the Third Kind</td>\n",
       "      <td>Richard Dreyfuss|FranÃ§ois Truffaut|Teri Garr|...</td>\n",
       "      <td>Steven Spielberg</td>\n",
       "      <td>135.0</td>\n",
       "      <td>Science Fiction|Drama</td>\n",
       "      <td>Columbia Pictures Corporation|EMI Films|Julia ...</td>\n",
       "      <td>1977-11-16</td>\n",
       "      <td>1977</td>\n",
       "    </tr>\n",
       "    <tr>\n",
       "      <th>2639</th>\n",
       "      <td>644</td>\n",
       "      <td>135926552</td>\n",
       "      <td>2.971372</td>\n",
       "      <td>100000000</td>\n",
       "      <td>235926552</td>\n",
       "      <td>A.I. Artificial Intelligence</td>\n",
       "      <td>Haley Joel Osment|Frances O'Connor|Sam Robards...</td>\n",
       "      <td>Steven Spielberg</td>\n",
       "      <td>146.0</td>\n",
       "      <td>Drama|Science Fiction|Adventure</td>\n",
       "      <td>DreamWorks SKG|Amblin Entertainment|Stanley Ku...</td>\n",
       "      <td>2001-06-29</td>\n",
       "      <td>2001</td>\n",
       "    </tr>\n",
       "  </tbody>\n",
       "</table>\n",
       "</div>"
      ],
      "text/plain": [
       "          id  total_profits  popularity     budget    revenue  \\\n",
       "34    296098      122610473    3.648210   40000000  162610473   \n",
       "1335     840      283788635    1.104816   20000000  303788635   \n",
       "2639     644      135926552    2.971372  100000000  235926552   \n",
       "\n",
       "                          original_title  \\\n",
       "34                       Bridge of Spies   \n",
       "1335  Close Encounters of the Third Kind   \n",
       "2639        A.I. Artificial Intelligence   \n",
       "\n",
       "                                                   cast          director  \\\n",
       "34    Tom Hanks|Mark Rylance|Amy Ryan|Alan Alda|Seba...  Steven Spielberg   \n",
       "1335  Richard Dreyfuss|FranÃ§ois Truffaut|Teri Garr|...  Steven Spielberg   \n",
       "2639  Haley Joel Osment|Frances O'Connor|Sam Robards...  Steven Spielberg   \n",
       "\n",
       "      runtime                           genres  \\\n",
       "34      141.0                   Thriller|Drama   \n",
       "1335    135.0            Science Fiction|Drama   \n",
       "2639    146.0  Drama|Science Fiction|Adventure   \n",
       "\n",
       "                                   production_companies release_date  \\\n",
       "34    DreamWorks SKG|Amblin Entertainment|Studio Bab...   2015-10-15   \n",
       "1335  Columbia Pictures Corporation|EMI Films|Julia ...   1977-11-16   \n",
       "2639  DreamWorks SKG|Amblin Entertainment|Stanley Ku...   2001-06-29   \n",
       "\n",
       "      release_year  \n",
       "34            2015  \n",
       "1335          1977  \n",
       "2639          2001  "
      ]
     },
     "execution_count": 435,
     "metadata": {},
     "output_type": "execute_result"
    }
   ],
   "source": [
    "#first make new variable with successfull Steven Spielberg movies\n",
    "sp_s = su_movies[su_movies.director == 'Steven Spielberg']\n",
    "#check\n",
    "sp_s.head(3)"
   ]
  },
  {
   "cell_type": "code",
   "execution_count": 436,
   "metadata": {},
   "outputs": [
    {
     "data": {
      "text/plain": [
       "Adventure          12\n",
       "Drama              10\n",
       "Action              7\n",
       "Science Fiction     7\n",
       "Thriller            4\n",
       "War                 4\n",
       "Family              3\n",
       "History             2\n",
       "Comedy              2\n",
       "Mystery             2\n",
       "Fantasy             2\n",
       "Animation           1\n",
       "Crime               1\n",
       "Horror              1\n",
       "dtype: int64"
      ]
     },
     "execution_count": 436,
     "metadata": {},
     "output_type": "execute_result"
    }
   ],
   "source": [
    "#lets see the genres of his successful movies\n",
    "#make split function\n",
    "def splitSP(column):\n",
    "    #I will make new column called sepData and seprate the Strings wtih |\n",
    "    sepData = sp_s[column].str.cat(sep = '|')\n",
    "    #split the values\n",
    "    sepData = pd.Series(sepData.split('|'))    \n",
    "    #arrange it and make it decending\n",
    "    sepData = sepData.value_counts(ascending = False)\n",
    "    #return value\n",
    "    return sepData\n",
    "\n",
    "#use the function\n",
    "splitSP('genres')"
   ]
  },
  {
   "cell_type": "markdown",
   "metadata": {},
   "source": [
    "## so most of his successfull movies are adventure and drama which is popular geners"
   ]
  },
  {
   "cell_type": "code",
   "execution_count": 437,
   "metadata": {},
   "outputs": [
    {
     "name": "stdout",
     "output_type": "stream",
     "text": [
      "62568181.81818182\n",
      "66525485.24577861\n"
     ]
    }
   ],
   "source": [
    "#compare the average budget for all successfull movies with Steven Spielberg movies\n",
    "sp_MB = sp_s.budget.mean()\n",
    "all_MB = su_movies.budget.mean()\n",
    "#check the averges\n",
    "print(sp_MB)\n",
    "print(all_MB)"
   ]
  },
  {
   "cell_type": "code",
   "execution_count": 438,
   "metadata": {},
   "outputs": [
    {
     "data": {
      "image/png": "[encoded data removed]",
      "text/plain": [
       "<Figure size 432x288 with 1 Axes>"
      ]
     },
     "metadata": {
      "needs_background": "light"
     },
     "output_type": "display_data"
    }
   ],
   "source": [
    "#make chart\n",
    "fig = plt.figure()\n",
    "ax = fig.add_axes([0,0,1,1])\n",
    "#name the bars\n",
    "bDirectors = ['Steven Spielberg Successfull movies', 'All Successfull movies']\n",
    "#put the values for bars\n",
    "bAverage = [sp_MB,all_MB]\n",
    "ax.bar(bDirectors,bAverage)\n",
    "#add title\n",
    "plt.title('Compare Average budget')\n",
    "plt.ylabel('average budget (in 10 million)')\n",
    "#show\n",
    "plt.show()"
   ]
  },
  {
   "cell_type": "markdown",
   "metadata": {},
   "source": [
    "## so steven's average budget for his movies is less than the average for all the movies but not very much."
   ]
  },
  {
   "cell_type": "code",
   "execution_count": 439,
   "metadata": {},
   "outputs": [
    {
     "name": "stdout",
     "output_type": "stream",
     "text": [
      "136.04545454545453\n",
      "114.66697936210132\n"
     ]
    }
   ],
   "source": [
    "#now lets compare the mean runtime for his successfull movies with the mean runtime for all successfull movies\n",
    "sp_RB = sp_s.runtime.mean()\n",
    "all_RB = su_movies.runtime.mean()\n",
    "#check the averges\n",
    "print(sp_RB)\n",
    "print(all_RB)"
   ]
  },
  {
   "cell_type": "code",
   "execution_count": 440,
   "metadata": {},
   "outputs": [
    {
     "data": {
      "image/png": "[encoded data removed]",
      "text/plain": [
       "<Figure size 432x288 with 1 Axes>"
      ]
     },
     "metadata": {
      "needs_background": "light"
     },
     "output_type": "display_data"
    }
   ],
   "source": [
    "#make chart\n",
    "fig = plt.figure()\n",
    "ax = fig.add_axes([0,0,1,1])\n",
    "#name the bars\n",
    "bDirectors = ['Steven Spielberg Successfull movies', 'All Successfull movies']\n",
    "#put the values for bars\n",
    "bAverage = [sp_RB,all_RB]\n",
    "ax.bar(bDirectors,bAverage)\n",
    "#add title\n",
    "plt.title('Compare Average runtime')\n",
    "plt.ylabel('average runtime (in minutes)')\n",
    "#show\n",
    "plt.show()"
   ]
  },
  {
   "cell_type": "markdown",
   "metadata": {},
   "source": [
    "## the runtime of his movies are almost 16 minutes more than the mean run time for all successful movie which is close"
   ]
  },
  {
   "cell_type": "code",
   "execution_count": 441,
   "metadata": {},
   "outputs": [
    {
     "data": {
      "image/png": "[encoded data removed]",
      "text/plain": [
       "<Figure size 432x288 with 1 Axes>"
      ]
     },
     "metadata": {
      "needs_background": "light"
     },
     "output_type": "display_data"
    }
   ],
   "source": [
    "#what is the budget and total profits of his movies\n",
    "#first sort it by budget\n",
    "sp_s = sp_s.sort_values(by='budget', ascending=False)\n",
    "#make the plot\n",
    "plt.plot(sp_s.budget / 10**6, sp_s.total_profits)\n",
    "#put the labels names\n",
    "plt.title('compare budget and total profits')\n",
    "plt.xlabel('budget (in millions)')\n",
    "plt.ylabel('total profits')\n",
    "#show\n",
    "plt.show()"
   ]
  },
  {
   "cell_type": "markdown",
   "metadata": {},
   "source": [
    "# Answer 5/ we can see that the highest total profits was not with very high budget which means that highest budget doesn't mean you will get high profits"
   ]
  },
  {
   "cell_type": "markdown",
   "metadata": {},
   "source": [
    "## we can see that the total profits dosent effect the popularity for his movies"
   ]
  },
  {
   "cell_type": "markdown",
   "metadata": {},
   "source": [
    "# Answer 5/ the averages of steve's movies are very close to the average of all the movies which proves that they are effective to make the movie more successfull"
   ]
  },
  {
   "cell_type": "markdown",
   "metadata": {},
   "source": [
    "### Research Question 6 (if the movies have more revenue does that means it is more popular ?)"
   ]
  },
  {
   "cell_type": "code",
   "execution_count": 442,
   "metadata": {},
   "outputs": [
    {
     "data": {
      "image/png": "[encoded data removed]",
      "text/plain": [
       "<Figure size 432x288 with 1 Axes>"
      ]
     },
     "metadata": {
      "needs_background": "light"
     },
     "output_type": "display_data"
    }
   ],
   "source": [
    "#first lets see it for all the successfull movies\n",
    "#sort it by total_profits\n",
    "su_movies = su_movies.sort_values(by='revenue', ascending=False)\n",
    "#make the plot\n",
    "plt.plot(su_movies.revenue / 10**6, su_movies.popularity)\n",
    "#put the labels names\n",
    "plt.title('compare popularity with revenue (all movies)')\n",
    "plt.xlabel('revenue (in millions)')\n",
    "plt.ylabel('popularity')\n",
    "#show\n",
    "plt.show()"
   ]
  },
  {
   "cell_type": "code",
   "execution_count": 443,
   "metadata": {},
   "outputs": [
    {
     "data": {
      "image/png": "[encoded data removed]",
      "text/plain": [
       "<Figure size 432x288 with 1 Axes>"
      ]
     },
     "metadata": {
      "needs_background": "light"
     },
     "output_type": "display_data"
    }
   ],
   "source": [
    "#now for Steven Spielberg does having more total profits means the the movie is more popular ?\n",
    "#sort it by total_profits\n",
    "sp_s = sp_s.sort_values(by='revenue', ascending=False)\n",
    "#make the plot\n",
    "plt.plot(sp_s.revenue / 10**6, sp_s.popularity)\n",
    "#put the labels names\n",
    "plt.title('compare popularity with revenue (Steven\\'s movies) ')\n",
    "\n",
    "plt.xlabel('revenue (in millions)')\n",
    "plt.ylabel('popularity')\n",
    "#show\n",
    "plt.show()"
   ]
  },
  {
   "cell_type": "markdown",
   "metadata": {},
   "source": [
    "### we can see that the most popular movies aren't the movies with the most revenue\n",
    "\n",
    "# Answer 6/ so we can see that for both steven's movies and all movies data the revenue dosen't necessarily means it will be more popular"
   ]
  },
  {
   "cell_type": "markdown",
   "metadata": {},
   "source": [
    "<a id='conclusions'></a>\n",
    "## Conclusions\n",
    "\n",
    "## 1-the total profits has increased a lot from 1960 to 2015\n",
    "## 2-the most successful genre are Comedy, Action and Drama\n",
    "## 3-the director with most successfull movies is Steven Spielberg\n",
    "## 4-Steven Spielberg have the most successful movies because he choose the right genres and dosen't make the movie too short yet not too long.\n",
    "## 5-having more revenue dosen't necessarily mean you movie will be more popular\n",
    "## 6-to make successfull movie you should consider the following:\n",
    "\n",
    "#### 1- most succeful genres are comdey ,Action and drama.\n",
    "#### 2- the least succeful genres are Documentary, Westren and History\n",
    "#### 3- most succeful movies runtime are around 114.6 minutes\n",
    "#### 4- the average budget for successful movies are 66525485 dollars\n",
    "#### 5- the best directors are Steven Spielberg, Robert Zemeckis and Ridley Scott\n",
    "\n",
    "# Limitations:\n",
    "\n",
    "## the data provided by the dataset was almost sufficient to answer all of my qustions but I only needed to add one column (total_profits),\n",
    "## the size of data set when I took the movie which has total profits more than the avergae was 1066 which is enough to give good judgement for my questions but for steve's movies it was set of only 22 movies which could not give a very good judgement for the questions,\n",
    "## but the major difficulties I encountered was on the cleaning dataset part because of the ZEROS on the runtime,budget..etc, which confused me before I relized that I need to remove them."
   ]
  },
  {
   "cell_type": "code",
   "execution_count": null,
   "metadata": {},
   "outputs": [],
   "source": []
  }
 ],
 "metadata": {
  "kernelspec": {
   "display_name": "Python 3",
   "language": "python",
   "name": "python3"
  },
  "language_info": {
   "codemirror_mode": {
    "name": "ipython",
    "version": 3
   },
   "file_extension": ".py",
   "mimetype": "text/x-python",
   "name": "python",
   "nbconvert_exporter": "python",
   "pygments_lexer": "ipython3",
   "version": "3.7.7"
  }
 },
 "nbformat": 4,
 "nbformat_minor": 2
}
